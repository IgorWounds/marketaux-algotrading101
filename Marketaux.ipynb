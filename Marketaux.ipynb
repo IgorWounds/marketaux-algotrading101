{
 "cells": [
  {
   "cell_type": "code",
   "execution_count": 1,
   "id": "54446a49",
   "metadata": {},
   "outputs": [],
   "source": [
    "import requests\n",
    "import pandas as pd\n",
    "\n",
    "url = 'https://api.marketaux.com'\n",
    "api_key = 'api_token=J8qEFska4zgATgsdr1uJd7iCBdMANP9eCOJplmBH'"
   ]
  },
  {
   "cell_type": "markdown",
   "id": "dfc9e218",
   "metadata": {},
   "source": [
    "# Finance and Market News"
   ]
  },
  {
   "cell_type": "code",
   "execution_count": 45,
   "id": "c65b1af4",
   "metadata": {},
   "outputs": [
    {
     "data": {
      "text/html": [
       "<div>\n",
       "<style scoped>\n",
       "    .dataframe tbody tr th:only-of-type {\n",
       "        vertical-align: middle;\n",
       "    }\n",
       "\n",
       "    .dataframe tbody tr th {\n",
       "        vertical-align: top;\n",
       "    }\n",
       "\n",
       "    .dataframe thead th {\n",
       "        text-align: right;\n",
       "    }\n",
       "</style>\n",
       "<table border=\"1\" class=\"dataframe\">\n",
       "  <thead>\n",
       "    <tr style=\"text-align: right;\">\n",
       "      <th></th>\n",
       "      <th>0</th>\n",
       "      <th>1</th>\n",
       "      <th>2</th>\n",
       "    </tr>\n",
       "  </thead>\n",
       "  <tbody>\n",
       "    <tr>\n",
       "      <th>uuid</th>\n",
       "      <td>a6de256f-e80a-49ca-921e-077fed935ade</td>\n",
       "      <td>450692ed-f013-4797-af96-986f70f65445</td>\n",
       "      <td>be5b8936-c874-4aa0-8ee8-7a8da72768f0</td>\n",
       "    </tr>\n",
       "    <tr>\n",
       "      <th>title</th>\n",
       "      <td>Enterprise Governance, Risk &amp; Compliance Marke...</td>\n",
       "      <td>Omicron Variant Concerns Present 'Clear Buying...</td>\n",
       "      <td>Could The Fed Trigger The Next “Financial Crisis”</td>\n",
       "    </tr>\n",
       "    <tr>\n",
       "      <th>description</th>\n",
       "      <td>/PRNewswire/ -- The global enterprise governan...</td>\n",
       "      <td>Wedbush analyst Dan Ives says the investment f...</td>\n",
       "      <td>Stocks Analysis by Lance Roberts covering: Mic...</td>\n",
       "    </tr>\n",
       "    <tr>\n",
       "      <th>keywords</th>\n",
       "      <td>Polaris Market Research</td>\n",
       "      <td></td>\n",
       "      <td></td>\n",
       "    </tr>\n",
       "    <tr>\n",
       "      <th>snippet</th>\n",
       "      <td>NEW YORK, Nov. 29, 2021 /PRNewswire/ -- The gl...</td>\n",
       "      <td>Wedbush analyst Dan Ives says the investment f...</td>\n",
       "      <td>Could the Fed trigger the next “financial cris...</td>\n",
       "    </tr>\n",
       "    <tr>\n",
       "      <th>url</th>\n",
       "      <td>https://www.prnewswire.com:443/news-releases/e...</td>\n",
       "      <td>https://markets.businessinsider.com/news/stock...</td>\n",
       "      <td>https://www.investing.com/analysis/could-the-f...</td>\n",
       "    </tr>\n",
       "    <tr>\n",
       "      <th>image_url</th>\n",
       "      <td>https://mma.prnewswire.com/media/1316207/Polar...</td>\n",
       "      <td>https://cdn.benzinga.com/files/imagecache/1024...</td>\n",
       "      <td>https://i-invdn-com.investing.com/redesign/ima...</td>\n",
       "    </tr>\n",
       "    <tr>\n",
       "      <th>language</th>\n",
       "      <td>en</td>\n",
       "      <td>en</td>\n",
       "      <td>en</td>\n",
       "    </tr>\n",
       "    <tr>\n",
       "      <th>published_at</th>\n",
       "      <td>2021-11-29T12:30:00.000000Z</td>\n",
       "      <td>2021-11-29T11:21:32.000000Z</td>\n",
       "      <td>2021-11-29T10:08:00.000000Z</td>\n",
       "    </tr>\n",
       "    <tr>\n",
       "      <th>source</th>\n",
       "      <td>prnewswire.com</td>\n",
       "      <td>markets.businessinsider.com</td>\n",
       "      <td>investing.com</td>\n",
       "    </tr>\n",
       "    <tr>\n",
       "      <th>relevance_score</th>\n",
       "      <td>None</td>\n",
       "      <td>None</td>\n",
       "      <td>None</td>\n",
       "    </tr>\n",
       "    <tr>\n",
       "      <th>entities</th>\n",
       "      <td>[{'symbol': 'MSFT', 'name': 'Microsoft Corpora...</td>\n",
       "      <td>[{'symbol': '0XVU.L', 'name': 'Zscaler, Inc.',...</td>\n",
       "      <td>[{'symbol': 'AAPL', 'name': 'Apple Inc.', 'exc...</td>\n",
       "    </tr>\n",
       "    <tr>\n",
       "      <th>similar</th>\n",
       "      <td>[]</td>\n",
       "      <td>[]</td>\n",
       "      <td>[]</td>\n",
       "    </tr>\n",
       "  </tbody>\n",
       "</table>\n",
       "</div>"
      ],
      "text/plain": [
       "                                                                 0  \\\n",
       "uuid                          a6de256f-e80a-49ca-921e-077fed935ade   \n",
       "title            Enterprise Governance, Risk & Compliance Marke...   \n",
       "description      /PRNewswire/ -- The global enterprise governan...   \n",
       "keywords                                   Polaris Market Research   \n",
       "snippet          NEW YORK, Nov. 29, 2021 /PRNewswire/ -- The gl...   \n",
       "url              https://www.prnewswire.com:443/news-releases/e...   \n",
       "image_url        https://mma.prnewswire.com/media/1316207/Polar...   \n",
       "language                                                        en   \n",
       "published_at                           2021-11-29T12:30:00.000000Z   \n",
       "source                                              prnewswire.com   \n",
       "relevance_score                                               None   \n",
       "entities         [{'symbol': 'MSFT', 'name': 'Microsoft Corpora...   \n",
       "similar                                                         []   \n",
       "\n",
       "                                                                 1  \\\n",
       "uuid                          450692ed-f013-4797-af96-986f70f65445   \n",
       "title            Omicron Variant Concerns Present 'Clear Buying...   \n",
       "description      Wedbush analyst Dan Ives says the investment f...   \n",
       "keywords                                                             \n",
       "snippet          Wedbush analyst Dan Ives says the investment f...   \n",
       "url              https://markets.businessinsider.com/news/stock...   \n",
       "image_url        https://cdn.benzinga.com/files/imagecache/1024...   \n",
       "language                                                        en   \n",
       "published_at                           2021-11-29T11:21:32.000000Z   \n",
       "source                                 markets.businessinsider.com   \n",
       "relevance_score                                               None   \n",
       "entities         [{'symbol': '0XVU.L', 'name': 'Zscaler, Inc.',...   \n",
       "similar                                                         []   \n",
       "\n",
       "                                                                 2  \n",
       "uuid                          be5b8936-c874-4aa0-8ee8-7a8da72768f0  \n",
       "title            Could The Fed Trigger The Next “Financial Crisis”  \n",
       "description      Stocks Analysis by Lance Roberts covering: Mic...  \n",
       "keywords                                                            \n",
       "snippet          Could the Fed trigger the next “financial cris...  \n",
       "url              https://www.investing.com/analysis/could-the-f...  \n",
       "image_url        https://i-invdn-com.investing.com/redesign/ima...  \n",
       "language                                                        en  \n",
       "published_at                           2021-11-29T10:08:00.000000Z  \n",
       "source                                               investing.com  \n",
       "relevance_score                                               None  \n",
       "entities         [{'symbol': 'AAPL', 'name': 'Apple Inc.', 'exc...  \n",
       "similar                                                         []  "
      ]
     },
     "execution_count": 45,
     "metadata": {},
     "output_type": "execute_result"
    }
   ],
   "source": [
    "news = pd.DataFrame(requests.get(url+'/v1/news/all?symbols=MSFT&limit=20&language=en&'+api_key).json()['data'])\n",
    "news.T"
   ]
  },
  {
   "cell_type": "code",
   "execution_count": 54,
   "id": "a825bbed",
   "metadata": {},
   "outputs": [
    {
     "data": {
      "text/plain": [
       "0.6908"
      ]
     },
     "execution_count": 54,
     "metadata": {},
     "output_type": "execute_result"
    }
   ],
   "source": [
    "news.entities[0][0]['sentiment_score']"
   ]
  },
  {
   "cell_type": "markdown",
   "id": "64244f75",
   "metadata": {},
   "source": [
    "# Similar News"
   ]
  },
  {
   "cell_type": "code",
   "execution_count": 56,
   "id": "fc464e55",
   "metadata": {
    "collapsed": true
   },
   "outputs": [
    {
     "data": {
      "text/plain": [
       "{'meta': {'found': 591603, 'returned': 3, 'limit': 3, 'page': 1},\n",
       " 'data': [{'uuid': 'f127b883-84d0-4cb7-a1f6-23c5e2d70c58',\n",
       "   'title': \"Tesla's stock will be added to the S&P 500 in a single step before the open on Dec. 21\",\n",
       "   'description': 'The electric vehicle maker will be the largest company ever to be added to the S&P 500.',\n",
       "   'keywords': 'Autos, Investment strategy, Stock markets, Breaking News: Markets, Breaking News: Investing, Breaking News: Business, Markets, Economy, Wall Street, Tesla Inc, business news',\n",
       "   'snippet': 'Tesla CEO Elon Musk gestures as he arrives to visit the construction site of the future US electric car giant Tesla, on September 03, 2020 in Gruenheide near Be...',\n",
       "   'url': 'https://www.cnbc.com/2020/11/30/teslas-stock-will-be-added-to-the-sp-500-in-a-single-step-before-the-open-on-dec-21.html',\n",
       "   'image_url': 'https://image.cnbcfm.com/api/v1/image/106756301-1603367288423-gettyimages-1228322928-AFP_1WY4ZG.jpeg?v=1603367380',\n",
       "   'language': 'en',\n",
       "   'published_at': '2020-11-30T23:40:32.000000Z',\n",
       "   'source': 'cnbc.com',\n",
       "   'relevance_score': 167.69046,\n",
       "   'entities': [],\n",
       "   'similar': []},\n",
       "  {'uuid': '405b77ea-628a-41a2-968d-e91e7be74159',\n",
       "   'title': \"Tesla's stock will be added to the S&P 500 in a single step before the open on Dec. 21\",\n",
       "   'description': 'The electric vehicle maker will be the largest company ever to be added to the S&P 500.',\n",
       "   'keywords': 'Autos, Investment strategy, Stock markets, Breaking News: Markets, Breaking News: Investing, Breaking News: Business, Markets, Economy, Wall Street, Tesla Inc, business news',\n",
       "   'snippet': 'Tesla CEO Elon Musk gestures as he arrives to visit the construction site of the future US electric car giant Tesla, on September 03, 2020 in Gruenheide near Be...',\n",
       "   'url': 'https://www.cnbc.com/2020/11/30/tesla-to-be-addedto-the-sp-500-in-two-parts-to-account-for-its-size-an-unprecedented-move.html',\n",
       "   'image_url': 'https://image.cnbcfm.com/api/v1/image/106756301-1603367288423-gettyimages-1228322928-AFP_1WY4ZG.jpeg?v=1603367380',\n",
       "   'language': 'en',\n",
       "   'published_at': '2020-11-30T21:34:36.000000Z',\n",
       "   'source': 'cnbc.com',\n",
       "   'relevance_score': 166.59912,\n",
       "   'entities': [],\n",
       "   'similar': []},\n",
       "  {'uuid': 'df4ad427-a672-4c67-b6c6-6f81aa00e164',\n",
       "   'title': 'Tesla stock jumps after announcement it will join S&P 500 in one go',\n",
       "   'description': \"Tesla's stock price surged early Tuesday after the company behind the S&P 500 said the electric-car maker would be added to the index in one go this month.\",\n",
       "   'keywords': 'Business, s&p 500, stocks, tesla',\n",
       "   'snippet': 'Tesla’s stock price surged early Tuesday after the company behind the S&P 500 said the electric-car maker would be added to the index in one go this month.\\n\\nS...',\n",
       "   'url': 'https://nypost.com/2020/12/01/tesla-stock-jumps-on-news-it-will-join-sp-500-in-one-shot/',\n",
       "   'image_url': 'https://nypost.com/wp-content/uploads/sites/2/2020/12/tesla-52.jpg?quality=90&strip=all&w=1200',\n",
       "   'language': 'en',\n",
       "   'published_at': '2020-12-01T14:35:46.000000Z',\n",
       "   'source': 'nypost.com',\n",
       "   'relevance_score': 152.26555,\n",
       "   'entities': [],\n",
       "   'similar': []}]}"
      ]
     },
     "execution_count": 56,
     "metadata": {},
     "output_type": "execute_result"
    }
   ],
   "source": [
    "requests.get(url+'/v1/news/similar/cc11e3ab-ced0-4a42-9146-e426505e2e67?'+api_key).json()"
   ]
  },
  {
   "cell_type": "markdown",
   "id": "5415a24a",
   "metadata": {},
   "source": [
    "# Entity Search"
   ]
  },
  {
   "cell_type": "code",
   "execution_count": 59,
   "id": "a020533a",
   "metadata": {},
   "outputs": [
    {
     "data": {
      "text/html": [
       "<div>\n",
       "<style scoped>\n",
       "    .dataframe tbody tr th:only-of-type {\n",
       "        vertical-align: middle;\n",
       "    }\n",
       "\n",
       "    .dataframe tbody tr th {\n",
       "        vertical-align: top;\n",
       "    }\n",
       "\n",
       "    .dataframe thead th {\n",
       "        text-align: right;\n",
       "    }\n",
       "</style>\n",
       "<table border=\"1\" class=\"dataframe\">\n",
       "  <thead>\n",
       "    <tr style=\"text-align: right;\">\n",
       "      <th></th>\n",
       "      <th>symbol</th>\n",
       "      <th>name</th>\n",
       "      <th>type</th>\n",
       "      <th>industry</th>\n",
       "      <th>exchange</th>\n",
       "      <th>exchange_long</th>\n",
       "      <th>country</th>\n",
       "    </tr>\n",
       "  </thead>\n",
       "  <tbody>\n",
       "    <tr>\n",
       "      <th>45</th>\n",
       "      <td>BTCTRY</td>\n",
       "      <td>Bitcoin TRY</td>\n",
       "      <td>cryptocurrency</td>\n",
       "      <td>N/A</td>\n",
       "      <td>CC</td>\n",
       "      <td>Cryptocurrency</td>\n",
       "      <td>global</td>\n",
       "    </tr>\n",
       "    <tr>\n",
       "      <th>46</th>\n",
       "      <td>WBTCUSD</td>\n",
       "      <td>Wrapped Bitcoin USD</td>\n",
       "      <td>cryptocurrency</td>\n",
       "      <td>N/A</td>\n",
       "      <td>CC</td>\n",
       "      <td>Cryptocurrency</td>\n",
       "      <td>global</td>\n",
       "    </tr>\n",
       "    <tr>\n",
       "      <th>47</th>\n",
       "      <td>WBTCGBP</td>\n",
       "      <td>Wrapped Bitcoin GBP</td>\n",
       "      <td>cryptocurrency</td>\n",
       "      <td>N/A</td>\n",
       "      <td>CC</td>\n",
       "      <td>Cryptocurrency</td>\n",
       "      <td>global</td>\n",
       "    </tr>\n",
       "    <tr>\n",
       "      <th>48</th>\n",
       "      <td>WBTCAUD</td>\n",
       "      <td>Wrapped Bitcoin AUD</td>\n",
       "      <td>cryptocurrency</td>\n",
       "      <td>N/A</td>\n",
       "      <td>CC</td>\n",
       "      <td>Cryptocurrency</td>\n",
       "      <td>global</td>\n",
       "    </tr>\n",
       "    <tr>\n",
       "      <th>49</th>\n",
       "      <td>WBTCEUR</td>\n",
       "      <td>Wrapped Bitcoin EUR</td>\n",
       "      <td>cryptocurrency</td>\n",
       "      <td>N/A</td>\n",
       "      <td>CC</td>\n",
       "      <td>Cryptocurrency</td>\n",
       "      <td>global</td>\n",
       "    </tr>\n",
       "  </tbody>\n",
       "</table>\n",
       "</div>"
      ],
      "text/plain": [
       "     symbol                 name            type industry exchange  \\\n",
       "45   BTCTRY          Bitcoin TRY  cryptocurrency      N/A       CC   \n",
       "46  WBTCUSD  Wrapped Bitcoin USD  cryptocurrency      N/A       CC   \n",
       "47  WBTCGBP  Wrapped Bitcoin GBP  cryptocurrency      N/A       CC   \n",
       "48  WBTCAUD  Wrapped Bitcoin AUD  cryptocurrency      N/A       CC   \n",
       "49  WBTCEUR  Wrapped Bitcoin EUR  cryptocurrency      N/A       CC   \n",
       "\n",
       "     exchange_long country  \n",
       "45  Cryptocurrency  global  \n",
       "46  Cryptocurrency  global  \n",
       "47  Cryptocurrency  global  \n",
       "48  Cryptocurrency  global  \n",
       "49  Cryptocurrency  global  "
      ]
     },
     "execution_count": 59,
     "metadata": {},
     "output_type": "execute_result"
    }
   ],
   "source": [
    "entities = pd.DataFrame(requests.get(url+'/v1/entity/search?search=btc&'+api_key).json()['data'])\n",
    "entities.tail()"
   ]
  },
  {
   "cell_type": "markdown",
   "id": "30ca6375",
   "metadata": {},
   "source": [
    "# Entity Exchanges"
   ]
  },
  {
   "cell_type": "code",
   "execution_count": 60,
   "id": "60d58664",
   "metadata": {},
   "outputs": [
    {
     "data": {
      "text/html": [
       "<div>\n",
       "<style scoped>\n",
       "    .dataframe tbody tr th:only-of-type {\n",
       "        vertical-align: middle;\n",
       "    }\n",
       "\n",
       "    .dataframe tbody tr th {\n",
       "        vertical-align: top;\n",
       "    }\n",
       "\n",
       "    .dataframe thead th {\n",
       "        text-align: right;\n",
       "    }\n",
       "</style>\n",
       "<table border=\"1\" class=\"dataframe\">\n",
       "  <thead>\n",
       "    <tr style=\"text-align: right;\">\n",
       "      <th></th>\n",
       "      <th>exchange</th>\n",
       "      <th>exchange_long</th>\n",
       "      <th>country</th>\n",
       "    </tr>\n",
       "  </thead>\n",
       "  <tbody>\n",
       "    <tr>\n",
       "      <th>67</th>\n",
       "      <td>OMXR</td>\n",
       "      <td>Nasdaq Riga</td>\n",
       "      <td>lv</td>\n",
       "    </tr>\n",
       "    <tr>\n",
       "      <th>68</th>\n",
       "      <td>XSAP</td>\n",
       "      <td>Sapporo Stock Exchange</td>\n",
       "      <td>jp</td>\n",
       "    </tr>\n",
       "    <tr>\n",
       "      <th>69</th>\n",
       "      <td>OMXI</td>\n",
       "      <td>Nasdaq Iceland</td>\n",
       "      <td>is</td>\n",
       "    </tr>\n",
       "    <tr>\n",
       "      <th>70</th>\n",
       "      <td>ENX</td>\n",
       "      <td>Euronext</td>\n",
       "      <td>eu</td>\n",
       "    </tr>\n",
       "    <tr>\n",
       "      <th>71</th>\n",
       "      <td>PHS</td>\n",
       "      <td>Philippine Stock Exchange</td>\n",
       "      <td>ph</td>\n",
       "    </tr>\n",
       "  </tbody>\n",
       "</table>\n",
       "</div>"
      ],
      "text/plain": [
       "   exchange              exchange_long country\n",
       "67     OMXR                Nasdaq Riga      lv\n",
       "68     XSAP     Sapporo Stock Exchange      jp\n",
       "69     OMXI             Nasdaq Iceland      is\n",
       "70      ENX                   Euronext      eu\n",
       "71      PHS  Philippine Stock Exchange      ph"
      ]
     },
     "execution_count": 60,
     "metadata": {},
     "output_type": "execute_result"
    }
   ],
   "source": [
    "entity_exchanges = pd.DataFrame(requests.get(url+'/v1/entity/exchange/list?'+api_key).json()['data'])\n",
    "entity_exchanges.tail()"
   ]
  },
  {
   "cell_type": "markdown",
   "id": "566884b6",
   "metadata": {},
   "source": [
    "# Entity Types"
   ]
  },
  {
   "cell_type": "code",
   "execution_count": 63,
   "id": "c45c9892",
   "metadata": {},
   "outputs": [
    {
     "data": {
      "text/plain": [
       "['equity', 'index', 'etf', 'mutualfund', 'currency', 'cryptocurrency']"
      ]
     },
     "execution_count": 63,
     "metadata": {},
     "output_type": "execute_result"
    }
   ],
   "source": [
    "requests.get(url+'/v1/entity/type/list?'+api_key).json()['data']"
   ]
  },
  {
   "cell_type": "markdown",
   "id": "ec6a29fc",
   "metadata": {},
   "source": [
    "# Entity Industries"
   ]
  },
  {
   "cell_type": "code",
   "execution_count": 64,
   "id": "555c6978",
   "metadata": {},
   "outputs": [
    {
     "data": {
      "text/plain": [
       "['Technology',\n",
       " 'Industrials',\n",
       " 'N/A',\n",
       " 'Consumer Cyclical',\n",
       " 'Healthcare',\n",
       " 'Communication Services',\n",
       " 'Financial Services',\n",
       " 'Consumer Defensive',\n",
       " 'Basic Materials',\n",
       " 'Real Estate',\n",
       " 'Energy',\n",
       " 'Utilities',\n",
       " 'Financial',\n",
       " 'Services',\n",
       " 'Consumer Goods',\n",
       " 'Industrial Goods']"
      ]
     },
     "execution_count": 64,
     "metadata": {},
     "output_type": "execute_result"
    }
   ],
   "source": [
    "requests.get(url+'/v1/entity/industry/list?'+api_key).json()['data']"
   ]
  },
  {
   "cell_type": "markdown",
   "id": "1f239226",
   "metadata": {},
   "source": [
    "# News Sources"
   ]
  },
  {
   "cell_type": "code",
   "execution_count": 66,
   "id": "3cd03549",
   "metadata": {},
   "outputs": [
    {
     "data": {
      "text/html": [
       "<div>\n",
       "<style scoped>\n",
       "    .dataframe tbody tr th:only-of-type {\n",
       "        vertical-align: middle;\n",
       "    }\n",
       "\n",
       "    .dataframe tbody tr th {\n",
       "        vertical-align: top;\n",
       "    }\n",
       "\n",
       "    .dataframe thead th {\n",
       "        text-align: right;\n",
       "    }\n",
       "</style>\n",
       "<table border=\"1\" class=\"dataframe\">\n",
       "  <thead>\n",
       "    <tr style=\"text-align: right;\">\n",
       "      <th></th>\n",
       "      <th>source_id</th>\n",
       "      <th>domain</th>\n",
       "      <th>language</th>\n",
       "    </tr>\n",
       "  </thead>\n",
       "  <tbody>\n",
       "    <tr>\n",
       "      <th>45</th>\n",
       "      <td>acuff.me-1</td>\n",
       "      <td>acuff.me</td>\n",
       "      <td>en</td>\n",
       "    </tr>\n",
       "    <tr>\n",
       "      <th>46</th>\n",
       "      <td>deeshaa.org-1</td>\n",
       "      <td>deeshaa.org</td>\n",
       "      <td>en</td>\n",
       "    </tr>\n",
       "    <tr>\n",
       "      <th>47</th>\n",
       "      <td>allaboutalpha.com-1</td>\n",
       "      <td>allaboutalpha.com</td>\n",
       "      <td>en</td>\n",
       "    </tr>\n",
       "    <tr>\n",
       "      <th>48</th>\n",
       "      <td>arnoldkling.com-1</td>\n",
       "      <td>arnoldkling.com</td>\n",
       "      <td>en</td>\n",
       "    </tr>\n",
       "    <tr>\n",
       "      <th>49</th>\n",
       "      <td>americaeconomia.com-1</td>\n",
       "      <td>americaeconomia.com</td>\n",
       "      <td>es</td>\n",
       "    </tr>\n",
       "  </tbody>\n",
       "</table>\n",
       "</div>"
      ],
      "text/plain": [
       "                source_id               domain language\n",
       "45             acuff.me-1             acuff.me       en\n",
       "46          deeshaa.org-1          deeshaa.org       en\n",
       "47    allaboutalpha.com-1    allaboutalpha.com       en\n",
       "48      arnoldkling.com-1      arnoldkling.com       en\n",
       "49  americaeconomia.com-1  americaeconomia.com       es"
      ]
     },
     "execution_count": 66,
     "metadata": {},
     "output_type": "execute_result"
    }
   ],
   "source": [
    "news_sources = pd.DataFrame(requests.get(url+'/v1/news/sources?'+api_key).json()['data'])\n",
    "news_sources.tail()"
   ]
  },
  {
   "cell_type": "markdown",
   "id": "cb128bee",
   "metadata": {},
   "source": [
    "# News by UUID"
   ]
  },
  {
   "cell_type": "code",
   "execution_count": 68,
   "id": "62f1d448",
   "metadata": {},
   "outputs": [
    {
     "data": {
      "text/plain": [
       "{'uuid': '147013d8-6c2c-4d50-8bad-eb3c8b7f5740',\n",
       " 'title': 'These Are The Four American Companies Worth Over $1 Trillion Each – 24',\n",
       " 'description': 'America’s major market indexes set records in the early part of the year, only to be battered by an unprecedented economic pandemic brought on by the spread of COVID-19. The markets have repaired themselves, largely based on the belief the recession will end in a V-shaped recovery and be back to normal by early next […]',\n",
       " 'keywords': '',\n",
       " 'snippet': 'These Are The Four American Companies Worth Over $1 Trillion Each\\n\\nAmerica’s major market indexes set records in the early part of the year, only to be batter...',\n",
       " 'url': 'https://247wallst.com/investing/2020/10/17/these-are-the-four-american-companies-worth-over-1-trillion-each/',\n",
       " 'image_url': 'https://247wallst.com/wp-content/uploads/2020/08/imageForEntry2-Qrj.jpg',\n",
       " 'language': 'en',\n",
       " 'published_at': '2020-10-17T11:16:20.000000Z',\n",
       " 'source': '247wallst.com',\n",
       " 'entities': []}"
      ]
     },
     "execution_count": 68,
     "metadata": {},
     "output_type": "execute_result"
    }
   ],
   "source": [
    "requests.get(url+'/v1/news/uuid/147013d8-6c2c-4d50-8bad-eb3c8b7f5740?'+api_key).json()"
   ]
  },
  {
   "cell_type": "code",
   "execution_count": null,
   "id": "5acfbf37",
   "metadata": {},
   "outputs": [],
   "source": []
  }
 ],
 "metadata": {
  "kernelspec": {
   "display_name": "Python 3 (ipykernel)",
   "language": "python",
   "name": "python3"
  },
  "language_info": {
   "codemirror_mode": {
    "name": "ipython",
    "version": 3
   },
   "file_extension": ".py",
   "mimetype": "text/x-python",
   "name": "python",
   "nbconvert_exporter": "python",
   "pygments_lexer": "ipython3",
   "version": "3.8.8"
  }
 },
 "nbformat": 4,
 "nbformat_minor": 5
}
